{
  "cells": [
    {
      "cell_type": "markdown",
      "metadata": {
        "id": "view-in-github",
        "colab_type": "text"
      },
      "source": [
        "<a href=\"https://colab.research.google.com/github/jeffrey96158/Vertical-Federated-Learning-without-explicit-ID-Matching/blob/main/Vertical_Federated_Learning_with_Drive_Diagnosis.ipynb\" target=\"_parent\"><img src=\"https://colab.research.google.com/assets/colab-badge.svg\" alt=\"Open In Colab\"/></a>"
      ]
    },
    {
      "cell_type": "code",
      "execution_count": null,
      "metadata": {
        "colab": {
          "base_uri": "https://localhost:8080/"
        },
        "id": "dYrqsFhwj3o6",
        "outputId": "476e5a12-2bdf-45d2-a722-6d1f0b042a12"
      },
      "outputs": [
        {
          "output_type": "stream",
          "name": "stdout",
          "text": [
            "Looking in indexes: https://pypi.org/simple, https://us-python.pkg.dev/colab-wheels/public/simple/\n",
            "Collecting phe\n",
            "  Downloading phe-1.5.0-py2.py3-none-any.whl (53 kB)\n",
            "\u001b[K     |████████████████████████████████| 53 kB 2.0 MB/s \n",
            "\u001b[?25hInstalling collected packages: phe\n",
            "Successfully installed phe-1.5.0\n",
            "Looking in indexes: https://pypi.org/simple, https://us-python.pkg.dev/colab-wheels/public/simple/\n",
            "Collecting cupy-cuda100\n",
            "  Downloading cupy_cuda100-9.6.0-cp38-cp38-manylinux1_x86_64.whl (61.3 MB)\n",
            "\u001b[K     |████████████████████████████████| 61.3 MB 148 kB/s \n",
            "\u001b[?25hRequirement already satisfied: numpy<1.24,>=1.17 in /usr/local/lib/python3.8/dist-packages (from cupy-cuda100) (1.21.6)\n",
            "Requirement already satisfied: fastrlock>=0.5 in /usr/local/lib/python3.8/dist-packages (from cupy-cuda100) (0.8.1)\n",
            "Installing collected packages: cupy-cuda100\n",
            "Successfully installed cupy-cuda100-9.6.0\n"
          ]
        }
      ],
      "source": [
        "!pip install phe\n",
        "!pip install cupy-cuda100"
      ]
    },
    {
      "cell_type": "code",
      "execution_count": null,
      "metadata": {
        "id": "LGAeLbzXkEmm"
      },
      "outputs": [],
      "source": [
        "from google.colab import output\n",
        "output.enable_custom_widget_manager()\n",
        "# pytorch\n",
        "import torch.nn as nn\n",
        "import torch.nn.functional as F\n",
        "import torch\n",
        "import torchvision.datasets as dset\n",
        "import torchvision.transforms as transforms\n",
        "import torch.utils.data as data\n",
        "# others\n",
        "from tqdm.notebook import tqdm as tqdm\n",
        "import argparse\n",
        "from sklearn.metrics import f1_score\n",
        "from sklearn import preprocessing\n",
        "import random\n",
        "\n",
        "import matplotlib.pyplot as plt\n",
        "import numpy as np\n",
        "# import cupy as cp\n",
        "import pandas as pd\n",
        "# pallier\n",
        "from phe import paillier\n"
      ]
    },
    {
      "cell_type": "markdown",
      "metadata": {
        "id": "__DUaRcm7vUh"
      },
      "source": [
        "# Download Dataset from my Google drive\n",
        "\n"
      ]
    },
    {
      "cell_type": "code",
      "execution_count": null,
      "metadata": {
        "id": "fKBJxuS97uuH",
        "colab": {
          "base_uri": "https://localhost:8080/"
        },
        "outputId": "c8b0ae96-6216-4e5a-f773-e6ef1df3854b"
      },
      "outputs": [
        {
          "output_type": "stream",
          "name": "stdout",
          "text": [
            "Mounted at /content/gdrive\n"
          ]
        }
      ],
      "source": [
        "from google.colab import drive\n",
        "drive.mount('/content/gdrive')\n",
        "df = pd.read_csv('gdrive/My Drive/Sensorless_drive_diagnosis.txt', sep = \" \", header = None)\n",
        "df = df.sample(frac=1).reset_index(drop=True)\n",
        "# data with (58509 instances) * (48 features + 1 answer)\n",
        "\n",
        "# the class should between 0 - 10\n",
        "df.iloc[:, -1] = df.iloc[:, -1].replace([1, 2, 3, 4, 5, 6, 7, 8, 9, 10, 11], [0, 1, 2, 3, 4, 5, 6, 7, 8, 9, 10])\n",
        "\n",
        "\n",
        "# split data into 8:1:1 for training, testing and validating\n",
        "# pick 58200 data, train: 46560, test: 5820 validation: 5820\n",
        "test_set = df.iloc[:5820, 0:49]\n",
        "valid_set = df.iloc[5820: 11640, 0:49]\n",
        "train_set = df.iloc[11640:58200, 0:49]\n",
        "\n",
        "\n",
        "\n",
        "\n"
      ]
    },
    {
      "cell_type": "markdown",
      "metadata": {
        "id": "DVJOzOySfDjZ"
      },
      "source": [
        "# Argument"
      ]
    },
    {
      "cell_type": "code",
      "execution_count": null,
      "metadata": {
        "id": "7kjtrWI3fC94"
      },
      "outputs": [],
      "source": [
        "parser = argparse.ArgumentParser(description='VFL with PyTorch')\n",
        "parser.add_argument('--no-cuda', action='store_true', default=False,\n",
        "                    help='disables CUDA training')\n",
        "parser.add_argument('--seed', type=int, default=50, metavar='S',\n",
        "                    help='random seed (default: 50)')\n",
        "parser.add_argument('--epochs', type=int, default=1, metavar='N',\n",
        "                    help='number of epochs to train (default: 1)')\n",
        "parser.add_argument('--lr', type=float, default=1e-3, metavar='LR',\n",
        "                    help='learning rate (default: 1e-3)')\n",
        "parser.add_argument('--log-interval', type=int, default=10, metavar='N',\n",
        "                    help='how many batches to wait before logging training status')\n",
        "parser.add_argument('--batch-size', type=int, default=50, metavar='N',\n",
        "                    help='input batch size for training (default: 50)')\n",
        "parser.add_argument('--test-batch-size', type=int, default=50, metavar='N',\n",
        "                    help='input batch size for testing (default: 50)')\n",
        "parser.add_argument('--num-participants', type=int, default=12, metavar='NP',\n",
        "                    help='number of participants (default: 12)')\n",
        "parser.add_argument('--randomorder_rounds', type=int, default=1, metavar='NP',\n",
        "                    help='rounds for Random Order (default: 1)')\n",
        "parser.add_argument('--asynchronous_rounds', type=int, default=1, metavar='NP',\n",
        "                    help='rounds for Asynchronous (default: 1)')\n",
        "args = parser.parse_args(args=[])"
      ]
    },
    {
      "cell_type": "markdown",
      "metadata": {
        "id": "c33PqulCfNGq"
      },
      "source": [
        "#Class Defination"
      ]
    },
    {
      "cell_type": "code",
      "execution_count": null,
      "metadata": {
        "id": "D_SL-k3sfMs-",
        "colab": {
          "base_uri": "https://localhost:8080/"
        },
        "outputId": "5145acd1-1710-4817-8b08-b6fd3670e090"
      },
      "outputs": [
        {
          "output_type": "stream",
          "name": "stdout",
          "text": [
            "Using CUDA!\n"
          ]
        }
      ],
      "source": [
        "## Initialization\n",
        "# Control Seed\n",
        "# CUDA is a GPU core for parrallel computing\n",
        "torch.manual_seed(args.seed)\n",
        "\n",
        "# Select Device\n",
        "use_cuda = not args.no_cuda and torch.cuda.is_available()\n",
        "device = torch.device(\"cuda\" if use_cuda else 'cpu')\n",
        "\n",
        "if use_cuda:\n",
        "    print(\"Using CUDA!\")\n",
        "    torch.cuda.manual_seed(args.seed)\n",
        "else:\n",
        "    print('Not using CUDA!!!')\n",
        "\n",
        "# transform panda's dataframe into pytorch tensor\n",
        "def df_to_tensor(df):\n",
        "    return torch.from_numpy(df.values).float().to(device)"
      ]
    },
    {
      "cell_type": "markdown",
      "metadata": {
        "id": "ESVyFXKrfaVW"
      },
      "source": [
        "# Split data"
      ]
    },
    {
      "cell_type": "code",
      "execution_count": null,
      "metadata": {
        "id": "ACkhlJLwgJXO"
      },
      "outputs": [],
      "source": [
        "from torch.utils.data.dataset import TensorDataset\n",
        "def Multi_Participants_SplitData(train_set,test_set,valid_set,p_num):\n",
        "  split_train_set = [[] for i in range(p_num)]\n",
        "  split_test_set = [[] for i in range(p_num)]\n",
        "  split_valid_set = [[] for i in range(p_num)]\n",
        "  # 根據participants數量將train set和test set切成n等分\n",
        "  # split features\n",
        "  col = int(48 / p_num)\n",
        "  for i in range(p_num):\n",
        "    temp = train_set.iloc[:,i*col:(i+1)*col]\n",
        "    datas = temp.values\n",
        "    #do normalization to datas\n",
        "    scaler = preprocessing.MinMaxScaler(feature_range=(0, 1)).fit(datas)\n",
        "    datas = scaler.transform(datas)\n",
        "    ans = train_set[48].values\n",
        "    split_train_set[i] = TensorDataset(torch.FloatTensor(datas),torch.FloatTensor(ans))\n",
        "\n",
        "    temp = test_set.iloc[:,i*col:(i+1)*col]\n",
        "    datas = temp.values\n",
        "    scaler = preprocessing.MinMaxScaler(feature_range=(0, 1)).fit(datas)\n",
        "    datas = scaler.transform(datas)\n",
        "    ans = test_set[48].values\n",
        "    split_test_set[i] = TensorDataset(torch.FloatTensor(datas),torch.FloatTensor(ans))\n",
        "\n",
        "    temp = valid_set.iloc[:,i*col:(i+1)*col]\n",
        "    datas = temp.values\n",
        "    scaler = preprocessing.MinMaxScaler(feature_range=(0, 1)).fit(datas)\n",
        "    datas = scaler.transform(datas)\n",
        "    ans = valid_set[48].values\n",
        "    split_valid_set[i] = TensorDataset(torch.FloatTensor(datas),torch.FloatTensor(ans))\n",
        "\n",
        "  TrainDataSet_dict = dict()\n",
        "  TestDataSet_dict = dict()\n",
        "  ValidDataSet_dict = dict()\n",
        "\n",
        "  for i in range(p_num):\n",
        "    p = 'P'\n",
        "    p = p + str(i)\n",
        "    TrainDataSet_dict[p] = data.DataLoader(dataset = split_train_set[i], batch_size = args.batch_size, shuffle=True, num_workers = 0)\n",
        "    TestDataSet_dict[p] = data.DataLoader(dataset = split_test_set[i], batch_size = args.batch_size, shuffle=True, num_workers = 0)\n",
        "    ValidDataSet_dict[p] = data.DataLoader(dataset = split_valid_set[i], batch_size = args.batch_size, shuffle=True, num_workers = 0)\n",
        "    #print(TrainDataSet_dict[p])\n",
        "  return TrainDataSet_dict, TestDataSet_dict, ValidDataSet_dict"
      ]
    },
    {
      "cell_type": "markdown",
      "metadata": {
        "id": "RAyUU7m0j6pg"
      },
      "source": [
        "# Training model"
      ]
    },
    {
      "cell_type": "code",
      "execution_count": null,
      "metadata": {
        "id": "L6X3sMRqj40F"
      },
      "outputs": [],
      "source": [
        "class client_network(nn.Module):\n",
        "  def __init__(self,features):\n",
        "    super(client_network,self).__init__()\n",
        "    self.features = features\n",
        "    self.L1 = nn.Linear(features,30).double()\n",
        "    self.L1B = nn.BatchNorm1d(30,dtype=torch.float64)\n",
        "    self.L2 = nn.Linear(30,11).double()\n",
        "    self.L2B = nn.BatchNorm1d(11,dtype=torch.float64)\n",
        "\n",
        "    self.set_init(self.L1)\n",
        "    self.set_init(self.L2)\n",
        "\n",
        "  def set_init(self,layer):\n",
        "    torch.nn.init.normal_(layer.weight,mean = 0., std = 1.)\n",
        "    torch.nn.init.constant_(layer.bias,0)\n",
        "  def forward(self,x):\n",
        "    x = self.L1(x)\n",
        "    x = self.L1B(x)\n",
        "    x = F.relu(x)\n",
        "    x = self.L2(x)\n",
        "    x = self.L2B(x)\n",
        "    x = F.relu(x)\n",
        "    return x\n",
        "\n",
        "class server_network(nn.Module):\n",
        "  def __init__(self, p_num):\n",
        "    super(server_network,self).__init__()\n",
        "    self.p_num = p_num\n",
        "    self.L3 = nn.Linear(11 * p_num ,20).double()\n",
        "    self.L3B = nn.BatchNorm1d(20,dtype=torch.float64)\n",
        "    self.output = nn.Linear(20,11).double()\n",
        "    self.set_init(self.L3)\n",
        "    self.set_init(self.output)\n",
        "  def set_init(self,layer):\n",
        "    torch.nn.init.normal_(layer.weight,mean = 0., std = 1.)\n",
        "    torch.nn.init.constant_(layer.bias,0)\n",
        "  def forward(self, x):\n",
        "    x = self.L3(x)\n",
        "    x = self.L3B(x)\n",
        "    x = F.relu(x)\n",
        "    x = self.output(x)\n",
        "    return x\n",
        "\n",
        "class Participants():\n",
        "  def __init__(self,features_num):\n",
        "    global device\n",
        "    self.network = client_network(features_num).to(device)\n",
        "    self.loss_fn = nn.CrossEntropyLoss()\n",
        "    self.lr = args.lr\n",
        "    self.optimizer = torch.optim.SGD(params=self.network.parameters(), lr = self.lr, weight_decay=1e-4)\n",
        "  def LocalTrain(self,data):\n",
        "    return self.network(data)\n",
        "\n",
        "class GlobalServer():\n",
        "  def __init__(self,participants_num,Participant_dic):\n",
        "    global device\n",
        "    self.global_network = server_network(participants_num).to(device)\n",
        "    self.lr = args.lr\n",
        "    para = list(self.global_network.parameters())\n",
        "    for i in range(p_num):\n",
        "      s = 'P'\n",
        "      s = s + str(i)\n",
        "      para = para + list(Participant_dict[s].network.parameters())\n",
        "    self.optimizer = torch.optim.SGD(params=para , lr = self.lr, momentum = 0.9, weight_decay=1e-4)\n",
        "    self.loss_fn = nn.CrossEntropyLoss()\n",
        "  def ServerTrain(self,net_in):\n",
        "    return self.global_network(net_in)\n"
      ]
    },
    {
      "cell_type": "markdown",
      "metadata": {
        "id": "60FcuT9QwOff"
      },
      "source": [
        "# Vertical Train"
      ]
    },
    {
      "cell_type": "code",
      "execution_count": null,
      "metadata": {
        "id": "M4LNHaeIwRmI"
      },
      "outputs": [],
      "source": [
        "def vertical_train(Participant_dict,Server,train_data,epochs,p_num):\n",
        "  print(f'{p_num} participants training with {epochs} epochs')\n",
        "  loss_history = list()\n",
        "  accu_history = []\n",
        "  testloss_history = []\n",
        "  f1_history = []\n",
        "  for e in tqdm(range(epochs)):\n",
        "    correct = 0\n",
        "    total_loss = 0\n",
        "    Labels = []\n",
        "    Predicts = []\n",
        "    for i in range(len(train_data['P0'])):\n",
        "      it = [0 for x in range(p_num)]\n",
        "      data = [0 for x in range(p_num)]\n",
        "      ans = [0 for x in range(p_num)]\n",
        "      #next iteration\n",
        "      for p in range(p_num):\n",
        "        s = 'P'\n",
        "        s = s + str(p)\n",
        "        (data[p],ans[p]) = next(iter(train_data[s]))\n",
        "        data[p],ans[p] = data[p].double(), ans[p].double()\n",
        "        data[p],ans[p] = data[p].to(device),ans[p].to(device)\n",
        "      #Client forward training\n",
        "      client_out = [0 for x in range(p_num)]\n",
        "      for p in range(p_num):\n",
        "        s = 'P'\n",
        "        s = s + str(p)\n",
        "        client_out[p] = Participant_dict[s].LocalTrain(data[p])\n",
        "      #Concat the output of client training\n",
        "      c_out = torch.cat((client_out[0],client_out[1]),-1)\n",
        "      for p in range(2,p_num,1):\n",
        "          c_out = torch.cat((c_out,client_out[p]),-1)\n",
        "\n",
        "      #Server training and calculate loss\n",
        "      server_out = Server.ServerTrain(c_out)\n",
        "      server_loss = Server.loss_fn(server_out, ans[0].long())\n",
        "\n",
        "      #Sever backward\n",
        "      Server.optimizer.zero_grad()\n",
        "      server_loss.backward(retain_graph=True)\n",
        "      Server.optimizer.step()\n",
        "\n",
        "      loss_history.append(server_loss.cpu().detach().numpy())\n",
        "      total_loss += server_loss.cpu().detach().numpy()\n",
        "\n",
        "      predict = server_out.data.max(1, keepdim=True)[1]  # get the index of the max log-probability\n",
        "      correct += predict.eq(ans[0].data.view_as(predict)).sum().item()\n",
        "      Labels = Labels + ans[0].tolist()\n",
        "      Predicts = Predicts + predict.tolist()\n",
        "    total_loss /= len(train_data['P0'])\n",
        "    accuracy = 100. * correct / 46560\n",
        "    f1 = f1_score(Labels, Predicts, average = \"macro\")\n",
        "\n",
        "    testloss_history.append(total_loss)\n",
        "    accu_history.append(accuracy / 100)\n",
        "    f1_history.append(f1)\n",
        "    #print(f1)\n",
        "\n",
        "  print(f'Train set: Average loss: {total_loss:.4f}, Accuracy: {correct}/{5820} ({accuracy:.2f}%), F1-score: {f1:.4f}')\n",
        "  return testloss_history, accu_history, f1_history"
      ]
    },
    {
      "cell_type": "code",
      "execution_count": null,
      "metadata": {
        "id": "ab_gbzcWwZbu"
      },
      "outputs": [],
      "source": [
        "def vertical_test(Participant_dict,Server,test_data,p_num):\n",
        "  print(f'{p_num} participants test with {epochs} epochs')\n",
        "  loss_history = list()\n",
        "  total_loss = 0\n",
        "  correct = 0\n",
        "  Labels = []\n",
        "  Predicts = []\n",
        "  accu_history = []\n",
        "  testloss_history = []\n",
        "\n",
        "  for i in range(len(test_data['P0'])):\n",
        "    it = [0 for x in range(p_num)]\n",
        "    data = [0 for x in range(p_num)]\n",
        "    ans = [0 for x in range(p_num)]\n",
        "    #next iteration\n",
        "    for p in range(p_num):\n",
        "      s = 'P'\n",
        "      s = s + str(p)\n",
        "      (data[p],ans[p]) = next(iter(test_data[s]))\n",
        "      data[p],ans[p] = data[p].double(), ans[p].double()\n",
        "      data[p],ans[p] = data[p].to(device),ans[p].to(device)\n",
        "    #Client forward training\n",
        "    client_out = [0 for x in range(p_num)]\n",
        "    for p in range(p_num):\n",
        "      s = 'P'\n",
        "      s = s + str(p)\n",
        "      client_out[p] = Participant_dict[s].LocalTrain(data[p])\n",
        "    #Concat the output of client training\n",
        "    c_out = torch.cat((client_out[0],client_out[1]),-1)\n",
        "    for p in range(2,p_num,1):\n",
        "        c_out = torch.cat((c_out,client_out[p]),-1)\n",
        "    #Server training\n",
        "    server_out = Server.ServerTrain(c_out)\n",
        "\n",
        "    #Calcualting loss\n",
        "    server_loss = Server.loss_fn(server_out,ans[0].long())\n",
        "    client_loss = [0 for x in range(p_num)]\n",
        "    for p in range(p_num):\n",
        "      client_loss[p] = Server.loss_fn(client_out[p], ans[p].long())\n",
        "\n",
        "\n",
        "    loss_history.append(server_loss.cpu().detach().numpy())\n",
        "    total_loss += server_loss.cpu().detach().numpy()\n",
        "\n",
        "    predict = server_out.data.max(1, keepdim=True)[1]  # get the index of the max log-probability\n",
        "    correct += predict.eq(ans[0].data.view_as(predict)).sum().item()\n",
        "    Labels = Labels + ans[0].tolist()\n",
        "    Predicts = Predicts + predict.tolist()\n",
        "\n",
        "  total_loss /= len(test_data['P0'])\n",
        "  accuracy = 100. * correct / 5820\n",
        "  testloss_history.append(total_loss)\n",
        "  accu_history.append(accuracy / 100)\n",
        "  f1 = f1_score(Labels, Predicts, average = \"macro\")\n",
        "\n",
        "  print(f'Test set: Average loss: {total_loss:.4f}, Accuracy: {correct}/{5820} ({accuracy:.2f}%), F1-score: {f1:.4f}')\n",
        "  return accuracy\n"
      ]
    },
    {
      "cell_type": "markdown",
      "metadata": {
        "id": "vksl2nURnBpT"
      },
      "source": [
        "# Generate Participant"
      ]
    },
    {
      "cell_type": "code",
      "execution_count": null,
      "metadata": {
        "id": "UNLLBfo-nD-1"
      },
      "outputs": [],
      "source": [
        "def GenerateParticipant(p_num):\n",
        "  P_dict = dict()\n",
        "  for i in range(p_num):\n",
        "    s = 'P'\n",
        "    s = s + str(i)\n",
        "    P_dict[s] = Participants(int(48/p_num))\n",
        "  return P_dict"
      ]
    },
    {
      "cell_type": "code",
      "execution_count": null,
      "metadata": {
        "id": "Ax3qIMurjogv",
        "colab": {
          "base_uri": "https://localhost:8080/",
          "height": 1000,
          "referenced_widgets": [
            "7540d05daaf24da7bc76af803d1199b4",
            "f270aea3292b46ca9276be5ad2bbf3d9",
            "955377d2666d4f118722f60b1ac73fdc",
            "518d86bfa78e48a29be07a4fa232bff2",
            "857a4dfd05bc48a6b09d99a3a7080ef5",
            "3768919d81164cca81e135b8a4c0bf81",
            "8c29f4b3208046e5917a16170e729a30",
            "5036930848db423c8a72e5b5d184c40c",
            "b609068556bb4b3c9975c9fec3c679fe",
            "a31099720e0f47e1a9c7e65b302243cb",
            "5b63a51dcfb749238dc8a00d07e64c56",
            "09058306bc4345aca1abc30eb85caa34",
            "be7f32a0108b4451a9e861153bb2b124",
            "51b8337701a848fdb720b0f855178c2a",
            "024500906fa9417380c6545af170dfcc",
            "1d937a01e55c4dc4b6b68d3daf681c3f",
            "ef69f2b2153240d38673fddaa976f80b",
            "81fb67b1b86e48e58f11204f5f0c542b",
            "cf208d59b49446f6935b09898ab935c4",
            "13bdba1822434494a357bacda020c0da",
            "41d74f9992b946adb43e6d605cf632d1",
            "ac55d60d15624e0ebca8287b8a121691",
            "d37e8d2fd8344fbf90b6fe65d1f6f8f9",
            "491e8f79e4214cf7a182ae2a995ed1ab",
            "e36e5b12b3174548b9adeba209dc8bbc",
            "c929d4970f274de1a4dd61744f183301",
            "1c1796301e2b49a19367142225ea8492",
            "d7b25f9ee3a541a881685b22b3fd3e18",
            "899ab926f0db4132891b02e95ad326f7",
            "d1468c8b3912456991e3ef82740d321b",
            "658127b4b9214434a0d42e323b881659",
            "55c163a3d420451abd5d59786a6a31db",
            "a9245ef61ee14760b1b2e4add2a18a15",
            "da9493c895d040cda16c99a1b4898914",
            "35eb9d766bb34db7821d5328c77335a2",
            "7e8fab47aab04af0b77cd9b0a8f9fae3",
            "88257fd805bb498abeae0539c74443c7",
            "6efe3502276b435bb0606d9f5b39c810",
            "c317e777886044fca82fd1a62780785f",
            "b76a2eb28e954a2d98c12fde788c72f6",
            "780f81e911b04c2d82936b6b4f26f2e3",
            "ddb092d078204c3cac9636f417f229a1",
            "2b79dcde33424b64af45076deabe5aed",
            "ca1cb4d83e154363baa92869d9b2e3be"
          ]
        },
        "outputId": "a6f9cff8-336f-4c7b-ebe7-f043cfa16cff"
      },
      "outputs": [
        {
          "output_type": "stream",
          "name": "stdout",
          "text": [
            "Start training data\n",
            "2 participants training with 300 epochs\n"
          ]
        },
        {
          "output_type": "display_data",
          "data": {
            "text/plain": [
              "  0%|          | 0/300 [00:00<?, ?it/s]"
            ],
            "application/vnd.jupyter.widget-view+json": {
              "version_major": 2,
              "version_minor": 0,
              "model_id": "7540d05daaf24da7bc76af803d1199b4"
            }
          },
          "metadata": {}
        },
        {
          "output_type": "stream",
          "name": "stdout",
          "text": [
            "Train set: Average loss: 0.2244, Accuracy: 42657/5820 (91.62%), F1-score: 0.9153\n",
            "End training data\n",
            "2 participants test with 300 epochs\n",
            "Test set: Average loss: 0.5383, Accuracy: 4744/5820 (81.51%), F1-score: 0.8101\n"
          ]
        },
        {
          "output_type": "display_data",
          "data": {
            "text/plain": [
              "<Figure size 432x288 with 1 Axes>"
            ],
            "image/png": "[encoded data removed]"
          },
          "metadata": {
            "needs_background": "light"
          }
        },
        {
          "output_type": "display_data",
          "data": {
            "text/plain": [
              "<Figure size 432x288 with 1 Axes>"
            ],
            "image/png": "[encoded data removed]"
          },
          "metadata": {
            "needs_background": "light"
          }
        },
        {
          "output_type": "stream",
          "name": "stdout",
          "text": [
            "Start training data\n",
            "3 participants training with 300 epochs\n"
          ]
        },
        {
          "output_type": "display_data",
          "data": {
            "text/plain": [
              "  0%|          | 0/300 [00:00<?, ?it/s]"
            ],
            "application/vnd.jupyter.widget-view+json": {
              "version_major": 2,
              "version_minor": 0,
              "model_id": "09058306bc4345aca1abc30eb85caa34"
            }
          },
          "metadata": {}
        },
        {
          "output_type": "stream",
          "name": "stdout",
          "text": [
            "Train set: Average loss: 0.2938, Accuracy: 40957/5820 (87.97%), F1-score: 0.8777\n",
            "End training data\n",
            "3 participants test with 300 epochs\n",
            "Test set: Average loss: 0.6416, Accuracy: 4442/5820 (76.32%), F1-score: 0.7581\n"
          ]
        },
        {
          "output_type": "display_data",
          "data": {
            "text/plain": [
              "<Figure size 432x288 with 1 Axes>"
            ],
            "image/png": "[encoded data removed]"
          },
          "metadata": {
            "needs_background": "light"
          }
        },
        {
          "output_type": "display_data",
          "data": {
            "text/plain": [
              "<Figure size 432x288 with 1 Axes>"
            ],
            "image/png": "[encoded data removed]"
          },
          "metadata": {
            "needs_background": "light"
          }
        },
        {
          "output_type": "stream",
          "name": "stdout",
          "text": [
            "Start training data\n",
            "4 participants training with 300 epochs\n"
          ]
        },
        {
          "output_type": "display_data",
          "data": {
            "text/plain": [
              "  0%|          | 0/300 [00:00<?, ?it/s]"
            ],
            "application/vnd.jupyter.widget-view+json": {
              "version_major": 2,
              "version_minor": 0,
              "model_id": "d37e8d2fd8344fbf90b6fe65d1f6f8f9"
            }
          },
          "metadata": {}
        },
        {
          "output_type": "stream",
          "name": "stdout",
          "text": [
            "Train set: Average loss: 0.4083, Accuracy: 38927/5820 (83.61%), F1-score: 0.8357\n",
            "End training data\n",
            "4 participants test with 300 epochs\n",
            "Test set: Average loss: 0.4983, Accuracy: 4723/5820 (81.15%), F1-score: 0.8074\n"
          ]
        },
        {
          "output_type": "display_data",
          "data": {
            "text/plain": [
              "<Figure size 432x288 with 1 Axes>"
            ],
            "image/png": "[encoded data removed]"
          },
          "metadata": {
            "needs_background": "light"
          }
        },
        {
          "output_type": "display_data",
          "data": {
            "text/plain": [
              "<Figure size 432x288 with 1 Axes>"
            ],
            "image/png": "[encoded data removed]"
          },
          "metadata": {
            "needs_background": "light"
          }
        },
        {
          "output_type": "stream",
          "name": "stdout",
          "text": [
            "Start training data\n",
            "6 participants training with 300 epochs\n"
          ]
        },
        {
          "output_type": "display_data",
          "data": {
            "text/plain": [
              "  0%|          | 0/300 [00:00<?, ?it/s]"
            ],
            "application/vnd.jupyter.widget-view+json": {
              "version_major": 2,
              "version_minor": 0,
              "model_id": "da9493c895d040cda16c99a1b4898914"
            }
          },
          "metadata": {}
        },
        {
          "output_type": "stream",
          "name": "stdout",
          "text": [
            "Train set: Average loss: 1.0287, Accuracy: 26600/5820 (57.13%), F1-score: 0.5652\n",
            "End training data\n",
            "6 participants test with 300 epochs\n",
            "Test set: Average loss: 1.1245, Accuracy: 3084/5820 (52.99%), F1-score: 0.5188\n"
          ]
        },
        {
          "output_type": "display_data",
          "data": {
            "text/plain": [
              "<Figure size 432x288 with 1 Axes>"
            ],
            "image/png": "[encoded data removed]"
          },
          "metadata": {
            "needs_background": "light"
          }
        },
        {
          "output_type": "display_data",
          "data": {
            "text/plain": [
              "<Figure size 432x288 with 1 Axes>"
            ],
            "image/png": "[encoded data removed]"
          },
          "metadata": {
            "needs_background": "light"
          }
        }
      ],
      "source": [
        "from google.colab import files\n",
        "from google.colab import output\n",
        "output.disable_custom_widget_manager()\n",
        "#設定train幾個epochs\n",
        "epochs = 300\n",
        "#設定圖片的儲存位置\n",
        "images_dir = '/content/gdrive/My Drive/Images/Multi_Participant_Drive_Diagnosis_without_id_matching'\n",
        "\n",
        "#設定幾個paticipants (要是48的因數)\n",
        "P_list = [2, 3, 4, 6]\n",
        "for p_num in P_list:\n",
        "  #生成Participant\n",
        "  Participant_dict = GenerateParticipant(p_num)\n",
        "  Participant_keys = list(Participant_dict.keys())\n",
        "  #生成Server\n",
        "  Server = GlobalServer(p_num,Participant_dict)\n",
        "  #切割DataSet\n",
        "  TrainData_dict, TestData_dict, ValidData_dict = Multi_Participants_SplitData(train_set,test_set,valid_set,p_num)\n",
        "  #開始training\n",
        "  print('Start training data')\n",
        "  train_loss, train_accuracy, train_f1 = vertical_train(Participant_dict,Server,TrainData_dict,epochs,p_num)\n",
        "  print('End training data')\n",
        "  #開始tesing\n",
        "  vertical_test(Participant_dict, Server, TestData_dict, p_num)\n",
        "\n",
        "  #做圖\n",
        "  x_value = np.arange(0,len(train_loss),1)\n",
        "  plt.plot(x_value,train_accuracy,color = 'c')\n",
        "  plt.plot(x_value,train_f1,color = 'y')\n",
        "  ax = plt.gca()\n",
        "  ax.set_ylim([0, 1])\n",
        "  plt.ylabel(\"accuracy and f1_score\") # y label\n",
        "  plt.xlabel(\"Training epochs\") # x label\n",
        "  s = str(p_num) + \"_participants_with_lr_=_\" + str(args.lr)\n",
        "  plt.title(s)\n",
        "  f = s + \"_accuracy_and_f1-score.png\"\n",
        "  # plt.savefig(f\"{images_dir}/{f}\")\n",
        "  plt.show()\n",
        "\n",
        "  plt.plot(x_value,train_loss,color = 'r')\n",
        "  plt.ylabel(\"loss\") # y label\n",
        "  plt.xlabel(\"Training epochs\") # x label\n",
        "  s = str(p_num) + \"_participants_with_lr_=_\" + str(args.lr)\n",
        "  plt.title(s)\n",
        "  f = s + \"_loss.png\"\n",
        "  # plt.savefig(f\"{images_dir}/{f}\")\n",
        "  plt.show()\n"
      ]
    }
  ],
  "metadata": {
    "accelerator": "GPU",
    "colab": {
      "provenance": [],
      "include_colab_link": true
    },
    "gpuClass": "standard",
    "kernelspec": {
      "display_name": "Python 3",
      "name": "python3"
    },
    "language_info": {
      "name": "python"
    },
    "widgets": {
      "application/vnd.jupyter.widget-state+json": {
        "7540d05daaf24da7bc76af803d1199b4": {
          "model_module": "@jupyter-widgets/controls",
          "model_name": "HBoxModel",
          "model_module_version": "1.5.0",
          "state": {
            "_dom_classes": [],
            "_model_module": "@jupyter-widgets/controls",
            "_model_module_version": "1.5.0",
            "_model_name": "HBoxModel",
            "_view_count": null,
            "_view_module": "@jupyter-widgets/controls",
            "_view_module_version": "1.5.0",
            "_view_name": "HBoxView",
            "box_style": "",
            "children": [
              "IPY_MODEL_f270aea3292b46ca9276be5ad2bbf3d9",
              "IPY_MODEL_955377d2666d4f118722f60b1ac73fdc",
              "IPY_MODEL_518d86bfa78e48a29be07a4fa232bff2"
            ],
            "layout": "IPY_MODEL_857a4dfd05bc48a6b09d99a3a7080ef5"
          }
        },
        "f270aea3292b46ca9276be5ad2bbf3d9": {
          "model_module": "@jupyter-widgets/controls",
          "model_name": "HTMLModel",
          "model_module_version": "1.5.0",
          "state": {
            "_dom_classes": [],
            "_model_module": "@jupyter-widgets/controls",
            "_model_module_version": "1.5.0",
            "_model_name": "HTMLModel",
            "_view_count": null,
            "_view_module": "@jupyter-widgets/controls",
            "_view_module_version": "1.5.0",
            "_view_name": "HTMLView",
            "description": "",
            "description_tooltip": null,
            "layout": "IPY_MODEL_3768919d81164cca81e135b8a4c0bf81",
            "placeholder": "​",
            "style": "IPY_MODEL_8c29f4b3208046e5917a16170e729a30",
            "value": "100%"
          }
        },
        "955377d2666d4f118722f60b1ac73fdc": {
          "model_module": "@jupyter-widgets/controls",
          "model_name": "FloatProgressModel",
          "model_module_version": "1.5.0",
          "state": {
            "_dom_classes": [],
            "_model_module": "@jupyter-widgets/controls",
            "_model_module_version": "1.5.0",
            "_model_name": "FloatProgressModel",
            "_view_count": null,
            "_view_module": "@jupyter-widgets/controls",
            "_view_module_version": "1.5.0",
            "_view_name": "ProgressView",
            "bar_style": "success",
            "description": "",
            "description_tooltip": null,
            "layout": "IPY_MODEL_5036930848db423c8a72e5b5d184c40c",
            "max": 300,
            "min": 0,
            "orientation": "horizontal",
            "style": "IPY_MODEL_b609068556bb4b3c9975c9fec3c679fe",
            "value": 300
          }
        },
        "518d86bfa78e48a29be07a4fa232bff2": {
          "model_module": "@jupyter-widgets/controls",
          "model_name": "HTMLModel",
          "model_module_version": "1.5.0",
          "state": {
            "_dom_classes": [],
            "_model_module": "@jupyter-widgets/controls",
            "_model_module_version": "1.5.0",
            "_model_name": "HTMLModel",
            "_view_count": null,
            "_view_module": "@jupyter-widgets/controls",
            "_view_module_version": "1.5.0",
            "_view_name": "HTMLView",
            "description": "",
            "description_tooltip": null,
            "layout": "IPY_MODEL_a31099720e0f47e1a9c7e65b302243cb",
            "placeholder": "​",
            "style": "IPY_MODEL_5b63a51dcfb749238dc8a00d07e64c56",
            "value": " 300/300 [41:24&lt;00:00,  8.32s/it]"
          }
        },
        "857a4dfd05bc48a6b09d99a3a7080ef5": {
          "model_module": "@jupyter-widgets/base",
          "model_name": "LayoutModel",
          "model_module_version": "1.2.0",
          "state": {
            "_model_module": "@jupyter-widgets/base",
            "_model_module_version": "1.2.0",
            "_model_name": "LayoutModel",
            "_view_count": null,
            "_view_module": "@jupyter-widgets/base",
            "_view_module_version": "1.2.0",
            "_view_name": "LayoutView",
            "align_content": null,
            "align_items": null,
            "align_self": null,
            "border": null,
            "bottom": null,
            "display": null,
            "flex": null,
            "flex_flow": null,
            "grid_area": null,
            "grid_auto_columns": null,
            "grid_auto_flow": null,
            "grid_auto_rows": null,
            "grid_column": null,
            "grid_gap": null,
            "grid_row": null,
            "grid_template_areas": null,
            "grid_template_columns": null,
            "grid_template_rows": null,
            "height": null,
            "justify_content": null,
            "justify_items": null,
            "left": null,
            "margin": null,
            "max_height": null,
            "max_width": null,
            "min_height": null,
            "min_width": null,
            "object_fit": null,
            "object_position": null,
            "order": null,
            "overflow": null,
            "overflow_x": null,
            "overflow_y": null,
            "padding": null,
            "right": null,
            "top": null,
            "visibility": null,
            "width": null
          }
        },
        "3768919d81164cca81e135b8a4c0bf81": {
          "model_module": "@jupyter-widgets/base",
          "model_name": "LayoutModel",
          "model_module_version": "1.2.0",
          "state": {
            "_model_module": "@jupyter-widgets/base",
            "_model_module_version": "1.2.0",
            "_model_name": "LayoutModel",
            "_view_count": null,
            "_view_module": "@jupyter-widgets/base",
            "_view_module_version": "1.2.0",
            "_view_name": "LayoutView",
            "align_content": null,
            "align_items": null,
            "align_self": null,
            "border": null,
            "bottom": null,
            "display": null,
            "flex": null,
            "flex_flow": null,
            "grid_area": null,
            "grid_auto_columns": null,
            "grid_auto_flow": null,
            "grid_auto_rows": null,
            "grid_column": null,
            "grid_gap": null,
            "grid_row": null,
            "grid_template_areas": null,
            "grid_template_columns": null,
            "grid_template_rows": null,
            "height": null,
            "justify_content": null,
            "justify_items": null,
            "left": null,
            "margin": null,
            "max_height": null,
            "max_width": null,
            "min_height": null,
            "min_width": null,
            "object_fit": null,
            "object_position": null,
            "order": null,
            "overflow": null,
            "overflow_x": null,
            "overflow_y": null,
            "padding": null,
            "right": null,
            "top": null,
            "visibility": null,
            "width": null
          }
        },
        "8c29f4b3208046e5917a16170e729a30": {
          "model_module": "@jupyter-widgets/controls",
          "model_name": "DescriptionStyleModel",
          "model_module_version": "1.5.0",
          "state": {
            "_model_module": "@jupyter-widgets/controls",
            "_model_module_version": "1.5.0",
            "_model_name": "DescriptionStyleModel",
            "_view_count": null,
            "_view_module": "@jupyter-widgets/base",
            "_view_module_version": "1.2.0",
            "_view_name": "StyleView",
            "description_width": ""
          }
        },
        "5036930848db423c8a72e5b5d184c40c": {
          "model_module": "@jupyter-widgets/base",
          "model_name": "LayoutModel",
          "model_module_version": "1.2.0",
          "state": {
            "_model_module": "@jupyter-widgets/base",
            "_model_module_version": "1.2.0",
            "_model_name": "LayoutModel",
            "_view_count": null,
            "_view_module": "@jupyter-widgets/base",
            "_view_module_version": "1.2.0",
            "_view_name": "LayoutView",
            "align_content": null,
            "align_items": null,
            "align_self": null,
            "border": null,
            "bottom": null,
            "display": null,
            "flex": null,
            "flex_flow": null,
            "grid_area": null,
            "grid_auto_columns": null,
            "grid_auto_flow": null,
            "grid_auto_rows": null,
            "grid_column": null,
            "grid_gap": null,
            "grid_row": null,
            "grid_template_areas": null,
            "grid_template_columns": null,
            "grid_template_rows": null,
            "height": null,
            "justify_content": null,
            "justify_items": null,
            "left": null,
            "margin": null,
            "max_height": null,
            "max_width": null,
            "min_height": null,
            "min_width": null,
            "object_fit": null,
            "object_position": null,
            "order": null,
            "overflow": null,
            "overflow_x": null,
            "overflow_y": null,
            "padding": null,
            "right": null,
            "top": null,
            "visibility": null,
            "width": null
          }
        },
        "b609068556bb4b3c9975c9fec3c679fe": {
          "model_module": "@jupyter-widgets/controls",
          "model_name": "ProgressStyleModel",
          "model_module_version": "1.5.0",
          "state": {
            "_model_module": "@jupyter-widgets/controls",
            "_model_module_version": "1.5.0",
            "_model_name": "ProgressStyleModel",
            "_view_count": null,
            "_view_module": "@jupyter-widgets/base",
            "_view_module_version": "1.2.0",
            "_view_name": "StyleView",
            "bar_color": null,
            "description_width": ""
          }
        },
        "a31099720e0f47e1a9c7e65b302243cb": {
          "model_module": "@jupyter-widgets/base",
          "model_name": "LayoutModel",
          "model_module_version": "1.2.0",
          "state": {
            "_model_module": "@jupyter-widgets/base",
            "_model_module_version": "1.2.0",
            "_model_name": "LayoutModel",
            "_view_count": null,
            "_view_module": "@jupyter-widgets/base",
            "_view_module_version": "1.2.0",
            "_view_name": "LayoutView",
            "align_content": null,
            "align_items": null,
            "align_self": null,
            "border": null,
            "bottom": null,
            "display": null,
            "flex": null,
            "flex_flow": null,
            "grid_area": null,
            "grid_auto_columns": null,
            "grid_auto_flow": null,
            "grid_auto_rows": null,
            "grid_column": null,
            "grid_gap": null,
            "grid_row": null,
            "grid_template_areas": null,
            "grid_template_columns": null,
            "grid_template_rows": null,
            "height": null,
            "justify_content": null,
            "justify_items": null,
            "left": null,
            "margin": null,
            "max_height": null,
            "max_width": null,
            "min_height": null,
            "min_width": null,
            "object_fit": null,
            "object_position": null,
            "order": null,
            "overflow": null,
            "overflow_x": null,
            "overflow_y": null,
            "padding": null,
            "right": null,
            "top": null,
            "visibility": null,
            "width": null
          }
        },
        "5b63a51dcfb749238dc8a00d07e64c56": {
          "model_module": "@jupyter-widgets/controls",
          "model_name": "DescriptionStyleModel",
          "model_module_version": "1.5.0",
          "state": {
            "_model_module": "@jupyter-widgets/controls",
            "_model_module_version": "1.5.0",
            "_model_name": "DescriptionStyleModel",
            "_view_count": null,
            "_view_module": "@jupyter-widgets/base",
            "_view_module_version": "1.2.0",
            "_view_name": "StyleView",
            "description_width": ""
          }
        },
        "09058306bc4345aca1abc30eb85caa34": {
          "model_module": "@jupyter-widgets/controls",
          "model_name": "HBoxModel",
          "model_module_version": "1.5.0",
          "state": {
            "_dom_classes": [],
            "_model_module": "@jupyter-widgets/controls",
            "_model_module_version": "1.5.0",
            "_model_name": "HBoxModel",
            "_view_count": null,
            "_view_module": "@jupyter-widgets/controls",
            "_view_module_version": "1.5.0",
            "_view_name": "HBoxView",
            "box_style": "",
            "children": [
              "IPY_MODEL_be7f32a0108b4451a9e861153bb2b124",
              "IPY_MODEL_51b8337701a848fdb720b0f855178c2a",
              "IPY_MODEL_024500906fa9417380c6545af170dfcc"
            ],
            "layout": "IPY_MODEL_1d937a01e55c4dc4b6b68d3daf681c3f"
          }
        },
        "be7f32a0108b4451a9e861153bb2b124": {
          "model_module": "@jupyter-widgets/controls",
          "model_name": "HTMLModel",
          "model_module_version": "1.5.0",
          "state": {
            "_dom_classes": [],
            "_model_module": "@jupyter-widgets/controls",
            "_model_module_version": "1.5.0",
            "_model_name": "HTMLModel",
            "_view_count": null,
            "_view_module": "@jupyter-widgets/controls",
            "_view_module_version": "1.5.0",
            "_view_name": "HTMLView",
            "description": "",
            "description_tooltip": null,
            "layout": "IPY_MODEL_ef69f2b2153240d38673fddaa976f80b",
            "placeholder": "​",
            "style": "IPY_MODEL_81fb67b1b86e48e58f11204f5f0c542b",
            "value": "100%"
          }
        },
        "51b8337701a848fdb720b0f855178c2a": {
          "model_module": "@jupyter-widgets/controls",
          "model_name": "FloatProgressModel",
          "model_module_version": "1.5.0",
          "state": {
            "_dom_classes": [],
            "_model_module": "@jupyter-widgets/controls",
            "_model_module_version": "1.5.0",
            "_model_name": "FloatProgressModel",
            "_view_count": null,
            "_view_module": "@jupyter-widgets/controls",
            "_view_module_version": "1.5.0",
            "_view_name": "ProgressView",
            "bar_style": "success",
            "description": "",
            "description_tooltip": null,
            "layout": "IPY_MODEL_cf208d59b49446f6935b09898ab935c4",
            "max": 300,
            "min": 0,
            "orientation": "horizontal",
            "style": "IPY_MODEL_13bdba1822434494a357bacda020c0da",
            "value": 300
          }
        },
        "024500906fa9417380c6545af170dfcc": {
          "model_module": "@jupyter-widgets/controls",
          "model_name": "HTMLModel",
          "model_module_version": "1.5.0",
          "state": {
            "_dom_classes": [],
            "_model_module": "@jupyter-widgets/controls",
            "_model_module_version": "1.5.0",
            "_model_name": "HTMLModel",
            "_view_count": null,
            "_view_module": "@jupyter-widgets/controls",
            "_view_module_version": "1.5.0",
            "_view_name": "HTMLView",
            "description": "",
            "description_tooltip": null,
            "layout": "IPY_MODEL_41d74f9992b946adb43e6d605cf632d1",
            "placeholder": "​",
            "style": "IPY_MODEL_ac55d60d15624e0ebca8287b8a121691",
            "value": " 300/300 [57:33&lt;00:00, 11.60s/it]"
          }
        },
        "1d937a01e55c4dc4b6b68d3daf681c3f": {
          "model_module": "@jupyter-widgets/base",
          "model_name": "LayoutModel",
          "model_module_version": "1.2.0",
          "state": {
            "_model_module": "@jupyter-widgets/base",
            "_model_module_version": "1.2.0",
            "_model_name": "LayoutModel",
            "_view_count": null,
            "_view_module": "@jupyter-widgets/base",
            "_view_module_version": "1.2.0",
            "_view_name": "LayoutView",
            "align_content": null,
            "align_items": null,
            "align_self": null,
            "border": null,
            "bottom": null,
            "display": null,
            "flex": null,
            "flex_flow": null,
            "grid_area": null,
            "grid_auto_columns": null,
            "grid_auto_flow": null,
            "grid_auto_rows": null,
            "grid_column": null,
            "grid_gap": null,
            "grid_row": null,
            "grid_template_areas": null,
            "grid_template_columns": null,
            "grid_template_rows": null,
            "height": null,
            "justify_content": null,
            "justify_items": null,
            "left": null,
            "margin": null,
            "max_height": null,
            "max_width": null,
            "min_height": null,
            "min_width": null,
            "object_fit": null,
            "object_position": null,
            "order": null,
            "overflow": null,
            "overflow_x": null,
            "overflow_y": null,
            "padding": null,
            "right": null,
            "top": null,
            "visibility": null,
            "width": null
          }
        },
        "ef69f2b2153240d38673fddaa976f80b": {
          "model_module": "@jupyter-widgets/base",
          "model_name": "LayoutModel",
          "model_module_version": "1.2.0",
          "state": {
            "_model_module": "@jupyter-widgets/base",
            "_model_module_version": "1.2.0",
            "_model_name": "LayoutModel",
            "_view_count": null,
            "_view_module": "@jupyter-widgets/base",
            "_view_module_version": "1.2.0",
            "_view_name": "LayoutView",
            "align_content": null,
            "align_items": null,
            "align_self": null,
            "border": null,
            "bottom": null,
            "display": null,
            "flex": null,
            "flex_flow": null,
            "grid_area": null,
            "grid_auto_columns": null,
            "grid_auto_flow": null,
            "grid_auto_rows": null,
            "grid_column": null,
            "grid_gap": null,
            "grid_row": null,
            "grid_template_areas": null,
            "grid_template_columns": null,
            "grid_template_rows": null,
            "height": null,
            "justify_content": null,
            "justify_items": null,
            "left": null,
            "margin": null,
            "max_height": null,
            "max_width": null,
            "min_height": null,
            "min_width": null,
            "object_fit": null,
            "object_position": null,
            "order": null,
            "overflow": null,
            "overflow_x": null,
            "overflow_y": null,
            "padding": null,
            "right": null,
            "top": null,
            "visibility": null,
            "width": null
          }
        },
        "81fb67b1b86e48e58f11204f5f0c542b": {
          "model_module": "@jupyter-widgets/controls",
          "model_name": "DescriptionStyleModel",
          "model_module_version": "1.5.0",
          "state": {
            "_model_module": "@jupyter-widgets/controls",
            "_model_module_version": "1.5.0",
            "_model_name": "DescriptionStyleModel",
            "_view_count": null,
            "_view_module": "@jupyter-widgets/base",
            "_view_module_version": "1.2.0",
            "_view_name": "StyleView",
            "description_width": ""
          }
        },
        "cf208d59b49446f6935b09898ab935c4": {
          "model_module": "@jupyter-widgets/base",
          "model_name": "LayoutModel",
          "model_module_version": "1.2.0",
          "state": {
            "_model_module": "@jupyter-widgets/base",
            "_model_module_version": "1.2.0",
            "_model_name": "LayoutModel",
            "_view_count": null,
            "_view_module": "@jupyter-widgets/base",
            "_view_module_version": "1.2.0",
            "_view_name": "LayoutView",
            "align_content": null,
            "align_items": null,
            "align_self": null,
            "border": null,
            "bottom": null,
            "display": null,
            "flex": null,
            "flex_flow": null,
            "grid_area": null,
            "grid_auto_columns": null,
            "grid_auto_flow": null,
            "grid_auto_rows": null,
            "grid_column": null,
            "grid_gap": null,
            "grid_row": null,
            "grid_template_areas": null,
            "grid_template_columns": null,
            "grid_template_rows": null,
            "height": null,
            "justify_content": null,
            "justify_items": null,
            "left": null,
            "margin": null,
            "max_height": null,
            "max_width": null,
            "min_height": null,
            "min_width": null,
            "object_fit": null,
            "object_position": null,
            "order": null,
            "overflow": null,
            "overflow_x": null,
            "overflow_y": null,
            "padding": null,
            "right": null,
            "top": null,
            "visibility": null,
            "width": null
          }
        },
        "13bdba1822434494a357bacda020c0da": {
          "model_module": "@jupyter-widgets/controls",
          "model_name": "ProgressStyleModel",
          "model_module_version": "1.5.0",
          "state": {
            "_model_module": "@jupyter-widgets/controls",
            "_model_module_version": "1.5.0",
            "_model_name": "ProgressStyleModel",
            "_view_count": null,
            "_view_module": "@jupyter-widgets/base",
            "_view_module_version": "1.2.0",
            "_view_name": "StyleView",
            "bar_color": null,
            "description_width": ""
          }
        },
        "41d74f9992b946adb43e6d605cf632d1": {
          "model_module": "@jupyter-widgets/base",
          "model_name": "LayoutModel",
          "model_module_version": "1.2.0",
          "state": {
            "_model_module": "@jupyter-widgets/base",
            "_model_module_version": "1.2.0",
            "_model_name": "LayoutModel",
            "_view_count": null,
            "_view_module": "@jupyter-widgets/base",
            "_view_module_version": "1.2.0",
            "_view_name": "LayoutView",
            "align_content": null,
            "align_items": null,
            "align_self": null,
            "border": null,
            "bottom": null,
            "display": null,
            "flex": null,
            "flex_flow": null,
            "grid_area": null,
            "grid_auto_columns": null,
            "grid_auto_flow": null,
            "grid_auto_rows": null,
            "grid_column": null,
            "grid_gap": null,
            "grid_row": null,
            "grid_template_areas": null,
            "grid_template_columns": null,
            "grid_template_rows": null,
            "height": null,
            "justify_content": null,
            "justify_items": null,
            "left": null,
            "margin": null,
            "max_height": null,
            "max_width": null,
            "min_height": null,
            "min_width": null,
            "object_fit": null,
            "object_position": null,
            "order": null,
            "overflow": null,
            "overflow_x": null,
            "overflow_y": null,
            "padding": null,
            "right": null,
            "top": null,
            "visibility": null,
            "width": null
          }
        },
        "ac55d60d15624e0ebca8287b8a121691": {
          "model_module": "@jupyter-widgets/controls",
          "model_name": "DescriptionStyleModel",
          "model_module_version": "1.5.0",
          "state": {
            "_model_module": "@jupyter-widgets/controls",
            "_model_module_version": "1.5.0",
            "_model_name": "DescriptionStyleModel",
            "_view_count": null,
            "_view_module": "@jupyter-widgets/base",
            "_view_module_version": "1.2.0",
            "_view_name": "StyleView",
            "description_width": ""
          }
        },
        "d37e8d2fd8344fbf90b6fe65d1f6f8f9": {
          "model_module": "@jupyter-widgets/controls",
          "model_name": "HBoxModel",
          "model_module_version": "1.5.0",
          "state": {
            "_dom_classes": [],
            "_model_module": "@jupyter-widgets/controls",
            "_model_module_version": "1.5.0",
            "_model_name": "HBoxModel",
            "_view_count": null,
            "_view_module": "@jupyter-widgets/controls",
            "_view_module_version": "1.5.0",
            "_view_name": "HBoxView",
            "box_style": "",
            "children": [
              "IPY_MODEL_491e8f79e4214cf7a182ae2a995ed1ab",
              "IPY_MODEL_e36e5b12b3174548b9adeba209dc8bbc",
              "IPY_MODEL_c929d4970f274de1a4dd61744f183301"
            ],
            "layout": "IPY_MODEL_1c1796301e2b49a19367142225ea8492"
          }
        },
        "491e8f79e4214cf7a182ae2a995ed1ab": {
          "model_module": "@jupyter-widgets/controls",
          "model_name": "HTMLModel",
          "model_module_version": "1.5.0",
          "state": {
            "_dom_classes": [],
            "_model_module": "@jupyter-widgets/controls",
            "_model_module_version": "1.5.0",
            "_model_name": "HTMLModel",
            "_view_count": null,
            "_view_module": "@jupyter-widgets/controls",
            "_view_module_version": "1.5.0",
            "_view_name": "HTMLView",
            "description": "",
            "description_tooltip": null,
            "layout": "IPY_MODEL_d7b25f9ee3a541a881685b22b3fd3e18",
            "placeholder": "​",
            "style": "IPY_MODEL_899ab926f0db4132891b02e95ad326f7",
            "value": "100%"
          }
        },
        "e36e5b12b3174548b9adeba209dc8bbc": {
          "model_module": "@jupyter-widgets/controls",
          "model_name": "FloatProgressModel",
          "model_module_version": "1.5.0",
          "state": {
            "_dom_classes": [],
            "_model_module": "@jupyter-widgets/controls",
            "_model_module_version": "1.5.0",
            "_model_name": "FloatProgressModel",
            "_view_count": null,
            "_view_module": "@jupyter-widgets/controls",
            "_view_module_version": "1.5.0",
            "_view_name": "ProgressView",
            "bar_style": "success",
            "description": "",
            "description_tooltip": null,
            "layout": "IPY_MODEL_d1468c8b3912456991e3ef82740d321b",
            "max": 300,
            "min": 0,
            "orientation": "horizontal",
            "style": "IPY_MODEL_658127b4b9214434a0d42e323b881659",
            "value": 300
          }
        },
        "c929d4970f274de1a4dd61744f183301": {
          "model_module": "@jupyter-widgets/controls",
          "model_name": "HTMLModel",
          "model_module_version": "1.5.0",
          "state": {
            "_dom_classes": [],
            "_model_module": "@jupyter-widgets/controls",
            "_model_module_version": "1.5.0",
            "_model_name": "HTMLModel",
            "_view_count": null,
            "_view_module": "@jupyter-widgets/controls",
            "_view_module_version": "1.5.0",
            "_view_name": "HTMLView",
            "description": "",
            "description_tooltip": null,
            "layout": "IPY_MODEL_55c163a3d420451abd5d59786a6a31db",
            "placeholder": "​",
            "style": "IPY_MODEL_a9245ef61ee14760b1b2e4add2a18a15",
            "value": " 300/300 [1:13:48&lt;00:00, 14.83s/it]"
          }
        },
        "1c1796301e2b49a19367142225ea8492": {
          "model_module": "@jupyter-widgets/base",
          "model_name": "LayoutModel",
          "model_module_version": "1.2.0",
          "state": {
            "_model_module": "@jupyter-widgets/base",
            "_model_module_version": "1.2.0",
            "_model_name": "LayoutModel",
            "_view_count": null,
            "_view_module": "@jupyter-widgets/base",
            "_view_module_version": "1.2.0",
            "_view_name": "LayoutView",
            "align_content": null,
            "align_items": null,
            "align_self": null,
            "border": null,
            "bottom": null,
            "display": null,
            "flex": null,
            "flex_flow": null,
            "grid_area": null,
            "grid_auto_columns": null,
            "grid_auto_flow": null,
            "grid_auto_rows": null,
            "grid_column": null,
            "grid_gap": null,
            "grid_row": null,
            "grid_template_areas": null,
            "grid_template_columns": null,
            "grid_template_rows": null,
            "height": null,
            "justify_content": null,
            "justify_items": null,
            "left": null,
            "margin": null,
            "max_height": null,
            "max_width": null,
            "min_height": null,
            "min_width": null,
            "object_fit": null,
            "object_position": null,
            "order": null,
            "overflow": null,
            "overflow_x": null,
            "overflow_y": null,
            "padding": null,
            "right": null,
            "top": null,
            "visibility": null,
            "width": null
          }
        },
        "d7b25f9ee3a541a881685b22b3fd3e18": {
          "model_module": "@jupyter-widgets/base",
          "model_name": "LayoutModel",
          "model_module_version": "1.2.0",
          "state": {
            "_model_module": "@jupyter-widgets/base",
            "_model_module_version": "1.2.0",
            "_model_name": "LayoutModel",
            "_view_count": null,
            "_view_module": "@jupyter-widgets/base",
            "_view_module_version": "1.2.0",
            "_view_name": "LayoutView",
            "align_content": null,
            "align_items": null,
            "align_self": null,
            "border": null,
            "bottom": null,
            "display": null,
            "flex": null,
            "flex_flow": null,
            "grid_area": null,
            "grid_auto_columns": null,
            "grid_auto_flow": null,
            "grid_auto_rows": null,
            "grid_column": null,
            "grid_gap": null,
            "grid_row": null,
            "grid_template_areas": null,
            "grid_template_columns": null,
            "grid_template_rows": null,
            "height": null,
            "justify_content": null,
            "justify_items": null,
            "left": null,
            "margin": null,
            "max_height": null,
            "max_width": null,
            "min_height": null,
            "min_width": null,
            "object_fit": null,
            "object_position": null,
            "order": null,
            "overflow": null,
            "overflow_x": null,
            "overflow_y": null,
            "padding": null,
            "right": null,
            "top": null,
            "visibility": null,
            "width": null
          }
        },
        "899ab926f0db4132891b02e95ad326f7": {
          "model_module": "@jupyter-widgets/controls",
          "model_name": "DescriptionStyleModel",
          "model_module_version": "1.5.0",
          "state": {
            "_model_module": "@jupyter-widgets/controls",
            "_model_module_version": "1.5.0",
            "_model_name": "DescriptionStyleModel",
            "_view_count": null,
            "_view_module": "@jupyter-widgets/base",
            "_view_module_version": "1.2.0",
            "_view_name": "StyleView",
            "description_width": ""
          }
        },
        "d1468c8b3912456991e3ef82740d321b": {
          "model_module": "@jupyter-widgets/base",
          "model_name": "LayoutModel",
          "model_module_version": "1.2.0",
          "state": {
            "_model_module": "@jupyter-widgets/base",
            "_model_module_version": "1.2.0",
            "_model_name": "LayoutModel",
            "_view_count": null,
            "_view_module": "@jupyter-widgets/base",
            "_view_module_version": "1.2.0",
            "_view_name": "LayoutView",
            "align_content": null,
            "align_items": null,
            "align_self": null,
            "border": null,
            "bottom": null,
            "display": null,
            "flex": null,
            "flex_flow": null,
            "grid_area": null,
            "grid_auto_columns": null,
            "grid_auto_flow": null,
            "grid_auto_rows": null,
            "grid_column": null,
            "grid_gap": null,
            "grid_row": null,
            "grid_template_areas": null,
            "grid_template_columns": null,
            "grid_template_rows": null,
            "height": null,
            "justify_content": null,
            "justify_items": null,
            "left": null,
            "margin": null,
            "max_height": null,
            "max_width": null,
            "min_height": null,
            "min_width": null,
            "object_fit": null,
            "object_position": null,
            "order": null,
            "overflow": null,
            "overflow_x": null,
            "overflow_y": null,
            "padding": null,
            "right": null,
            "top": null,
            "visibility": null,
            "width": null
          }
        },
        "658127b4b9214434a0d42e323b881659": {
          "model_module": "@jupyter-widgets/controls",
          "model_name": "ProgressStyleModel",
          "model_module_version": "1.5.0",
          "state": {
            "_model_module": "@jupyter-widgets/controls",
            "_model_module_version": "1.5.0",
            "_model_name": "ProgressStyleModel",
            "_view_count": null,
            "_view_module": "@jupyter-widgets/base",
            "_view_module_version": "1.2.0",
            "_view_name": "StyleView",
            "bar_color": null,
            "description_width": ""
          }
        },
        "55c163a3d420451abd5d59786a6a31db": {
          "model_module": "@jupyter-widgets/base",
          "model_name": "LayoutModel",
          "model_module_version": "1.2.0",
          "state": {
            "_model_module": "@jupyter-widgets/base",
            "_model_module_version": "1.2.0",
            "_model_name": "LayoutModel",
            "_view_count": null,
            "_view_module": "@jupyter-widgets/base",
            "_view_module_version": "1.2.0",
            "_view_name": "LayoutView",
            "align_content": null,
            "align_items": null,
            "align_self": null,
            "border": null,
            "bottom": null,
            "display": null,
            "flex": null,
            "flex_flow": null,
            "grid_area": null,
            "grid_auto_columns": null,
            "grid_auto_flow": null,
            "grid_auto_rows": null,
            "grid_column": null,
            "grid_gap": null,
            "grid_row": null,
            "grid_template_areas": null,
            "grid_template_columns": null,
            "grid_template_rows": null,
            "height": null,
            "justify_content": null,
            "justify_items": null,
            "left": null,
            "margin": null,
            "max_height": null,
            "max_width": null,
            "min_height": null,
            "min_width": null,
            "object_fit": null,
            "object_position": null,
            "order": null,
            "overflow": null,
            "overflow_x": null,
            "overflow_y": null,
            "padding": null,
            "right": null,
            "top": null,
            "visibility": null,
            "width": null
          }
        },
        "a9245ef61ee14760b1b2e4add2a18a15": {
          "model_module": "@jupyter-widgets/controls",
          "model_name": "DescriptionStyleModel",
          "model_module_version": "1.5.0",
          "state": {
            "_model_module": "@jupyter-widgets/controls",
            "_model_module_version": "1.5.0",
            "_model_name": "DescriptionStyleModel",
            "_view_count": null,
            "_view_module": "@jupyter-widgets/base",
            "_view_module_version": "1.2.0",
            "_view_name": "StyleView",
            "description_width": ""
          }
        },
        "da9493c895d040cda16c99a1b4898914": {
          "model_module": "@jupyter-widgets/controls",
          "model_name": "HBoxModel",
          "model_module_version": "1.5.0",
          "state": {
            "_dom_classes": [],
            "_model_module": "@jupyter-widgets/controls",
            "_model_module_version": "1.5.0",
            "_model_name": "HBoxModel",
            "_view_count": null,
            "_view_module": "@jupyter-widgets/controls",
            "_view_module_version": "1.5.0",
            "_view_name": "HBoxView",
            "box_style": "",
            "children": [
              "IPY_MODEL_35eb9d766bb34db7821d5328c77335a2",
              "IPY_MODEL_7e8fab47aab04af0b77cd9b0a8f9fae3",
              "IPY_MODEL_88257fd805bb498abeae0539c74443c7"
            ],
            "layout": "IPY_MODEL_6efe3502276b435bb0606d9f5b39c810"
          }
        },
        "35eb9d766bb34db7821d5328c77335a2": {
          "model_module": "@jupyter-widgets/controls",
          "model_name": "HTMLModel",
          "model_module_version": "1.5.0",
          "state": {
            "_dom_classes": [],
            "_model_module": "@jupyter-widgets/controls",
            "_model_module_version": "1.5.0",
            "_model_name": "HTMLModel",
            "_view_count": null,
            "_view_module": "@jupyter-widgets/controls",
            "_view_module_version": "1.5.0",
            "_view_name": "HTMLView",
            "description": "",
            "description_tooltip": null,
            "layout": "IPY_MODEL_c317e777886044fca82fd1a62780785f",
            "placeholder": "​",
            "style": "IPY_MODEL_b76a2eb28e954a2d98c12fde788c72f6",
            "value": "100%"
          }
        },
        "7e8fab47aab04af0b77cd9b0a8f9fae3": {
          "model_module": "@jupyter-widgets/controls",
          "model_name": "FloatProgressModel",
          "model_module_version": "1.5.0",
          "state": {
            "_dom_classes": [],
            "_model_module": "@jupyter-widgets/controls",
            "_model_module_version": "1.5.0",
            "_model_name": "FloatProgressModel",
            "_view_count": null,
            "_view_module": "@jupyter-widgets/controls",
            "_view_module_version": "1.5.0",
            "_view_name": "ProgressView",
            "bar_style": "success",
            "description": "",
            "description_tooltip": null,
            "layout": "IPY_MODEL_780f81e911b04c2d82936b6b4f26f2e3",
            "max": 300,
            "min": 0,
            "orientation": "horizontal",
            "style": "IPY_MODEL_ddb092d078204c3cac9636f417f229a1",
            "value": 300
          }
        },
        "88257fd805bb498abeae0539c74443c7": {
          "model_module": "@jupyter-widgets/controls",
          "model_name": "HTMLModel",
          "model_module_version": "1.5.0",
          "state": {
            "_dom_classes": [],
            "_model_module": "@jupyter-widgets/controls",
            "_model_module_version": "1.5.0",
            "_model_name": "HTMLModel",
            "_view_count": null,
            "_view_module": "@jupyter-widgets/controls",
            "_view_module_version": "1.5.0",
            "_view_name": "HTMLView",
            "description": "",
            "description_tooltip": null,
            "layout": "IPY_MODEL_2b79dcde33424b64af45076deabe5aed",
            "placeholder": "​",
            "style": "IPY_MODEL_ca1cb4d83e154363baa92869d9b2e3be",
            "value": " 300/300 [1:46:57&lt;00:00, 21.52s/it]"
          }
        },
        "6efe3502276b435bb0606d9f5b39c810": {
          "model_module": "@jupyter-widgets/base",
          "model_name": "LayoutModel",
          "model_module_version": "1.2.0",
          "state": {
            "_model_module": "@jupyter-widgets/base",
            "_model_module_version": "1.2.0",
            "_model_name": "LayoutModel",
            "_view_count": null,
            "_view_module": "@jupyter-widgets/base",
            "_view_module_version": "1.2.0",
            "_view_name": "LayoutView",
            "align_content": null,
            "align_items": null,
            "align_self": null,
            "border": null,
            "bottom": null,
            "display": null,
            "flex": null,
            "flex_flow": null,
            "grid_area": null,
            "grid_auto_columns": null,
            "grid_auto_flow": null,
            "grid_auto_rows": null,
            "grid_column": null,
            "grid_gap": null,
            "grid_row": null,
            "grid_template_areas": null,
            "grid_template_columns": null,
            "grid_template_rows": null,
            "height": null,
            "justify_content": null,
            "justify_items": null,
            "left": null,
            "margin": null,
            "max_height": null,
            "max_width": null,
            "min_height": null,
            "min_width": null,
            "object_fit": null,
            "object_position": null,
            "order": null,
            "overflow": null,
            "overflow_x": null,
            "overflow_y": null,
            "padding": null,
            "right": null,
            "top": null,
            "visibility": null,
            "width": null
          }
        },
        "c317e777886044fca82fd1a62780785f": {
          "model_module": "@jupyter-widgets/base",
          "model_name": "LayoutModel",
          "model_module_version": "1.2.0",
          "state": {
            "_model_module": "@jupyter-widgets/base",
            "_model_module_version": "1.2.0",
            "_model_name": "LayoutModel",
            "_view_count": null,
            "_view_module": "@jupyter-widgets/base",
            "_view_module_version": "1.2.0",
            "_view_name": "LayoutView",
            "align_content": null,
            "align_items": null,
            "align_self": null,
            "border": null,
            "bottom": null,
            "display": null,
            "flex": null,
            "flex_flow": null,
            "grid_area": null,
            "grid_auto_columns": null,
            "grid_auto_flow": null,
            "grid_auto_rows": null,
            "grid_column": null,
            "grid_gap": null,
            "grid_row": null,
            "grid_template_areas": null,
            "grid_template_columns": null,
            "grid_template_rows": null,
            "height": null,
            "justify_content": null,
            "justify_items": null,
            "left": null,
            "margin": null,
            "max_height": null,
            "max_width": null,
            "min_height": null,
            "min_width": null,
            "object_fit": null,
            "object_position": null,
            "order": null,
            "overflow": null,
            "overflow_x": null,
            "overflow_y": null,
            "padding": null,
            "right": null,
            "top": null,
            "visibility": null,
            "width": null
          }
        },
        "b76a2eb28e954a2d98c12fde788c72f6": {
          "model_module": "@jupyter-widgets/controls",
          "model_name": "DescriptionStyleModel",
          "model_module_version": "1.5.0",
          "state": {
            "_model_module": "@jupyter-widgets/controls",
            "_model_module_version": "1.5.0",
            "_model_name": "DescriptionStyleModel",
            "_view_count": null,
            "_view_module": "@jupyter-widgets/base",
            "_view_module_version": "1.2.0",
            "_view_name": "StyleView",
            "description_width": ""
          }
        },
        "780f81e911b04c2d82936b6b4f26f2e3": {
          "model_module": "@jupyter-widgets/base",
          "model_name": "LayoutModel",
          "model_module_version": "1.2.0",
          "state": {
            "_model_module": "@jupyter-widgets/base",
            "_model_module_version": "1.2.0",
            "_model_name": "LayoutModel",
            "_view_count": null,
            "_view_module": "@jupyter-widgets/base",
            "_view_module_version": "1.2.0",
            "_view_name": "LayoutView",
            "align_content": null,
            "align_items": null,
            "align_self": null,
            "border": null,
            "bottom": null,
            "display": null,
            "flex": null,
            "flex_flow": null,
            "grid_area": null,
            "grid_auto_columns": null,
            "grid_auto_flow": null,
            "grid_auto_rows": null,
            "grid_column": null,
            "grid_gap": null,
            "grid_row": null,
            "grid_template_areas": null,
            "grid_template_columns": null,
            "grid_template_rows": null,
            "height": null,
            "justify_content": null,
            "justify_items": null,
            "left": null,
            "margin": null,
            "max_height": null,
            "max_width": null,
            "min_height": null,
            "min_width": null,
            "object_fit": null,
            "object_position": null,
            "order": null,
            "overflow": null,
            "overflow_x": null,
            "overflow_y": null,
            "padding": null,
            "right": null,
            "top": null,
            "visibility": null,
            "width": null
          }
        },
        "ddb092d078204c3cac9636f417f229a1": {
          "model_module": "@jupyter-widgets/controls",
          "model_name": "ProgressStyleModel",
          "model_module_version": "1.5.0",
          "state": {
            "_model_module": "@jupyter-widgets/controls",
            "_model_module_version": "1.5.0",
            "_model_name": "ProgressStyleModel",
            "_view_count": null,
            "_view_module": "@jupyter-widgets/base",
            "_view_module_version": "1.2.0",
            "_view_name": "StyleView",
            "bar_color": null,
            "description_width": ""
          }
        },
        "2b79dcde33424b64af45076deabe5aed": {
          "model_module": "@jupyter-widgets/base",
          "model_name": "LayoutModel",
          "model_module_version": "1.2.0",
          "state": {
            "_model_module": "@jupyter-widgets/base",
            "_model_module_version": "1.2.0",
            "_model_name": "LayoutModel",
            "_view_count": null,
            "_view_module": "@jupyter-widgets/base",
            "_view_module_version": "1.2.0",
            "_view_name": "LayoutView",
            "align_content": null,
            "align_items": null,
            "align_self": null,
            "border": null,
            "bottom": null,
            "display": null,
            "flex": null,
            "flex_flow": null,
            "grid_area": null,
            "grid_auto_columns": null,
            "grid_auto_flow": null,
            "grid_auto_rows": null,
            "grid_column": null,
            "grid_gap": null,
            "grid_row": null,
            "grid_template_areas": null,
            "grid_template_columns": null,
            "grid_template_rows": null,
            "height": null,
            "justify_content": null,
            "justify_items": null,
            "left": null,
            "margin": null,
            "max_height": null,
            "max_width": null,
            "min_height": null,
            "min_width": null,
            "object_fit": null,
            "object_position": null,
            "order": null,
            "overflow": null,
            "overflow_x": null,
            "overflow_y": null,
            "padding": null,
            "right": null,
            "top": null,
            "visibility": null,
            "width": null
          }
        },
        "ca1cb4d83e154363baa92869d9b2e3be": {
          "model_module": "@jupyter-widgets/controls",
          "model_name": "DescriptionStyleModel",
          "model_module_version": "1.5.0",
          "state": {
            "_model_module": "@jupyter-widgets/controls",
            "_model_module_version": "1.5.0",
            "_model_name": "DescriptionStyleModel",
            "_view_count": null,
            "_view_module": "@jupyter-widgets/base",
            "_view_module_version": "1.2.0",
            "_view_name": "StyleView",
            "description_width": ""
          }
        }
      }
    }
  },
  "nbformat": 4,
  "nbformat_minor": 0
}